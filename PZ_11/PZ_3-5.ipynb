{
  "nbformat": 4,
  "nbformat_minor": 0,
  "metadata": {
    "colab": {
      "name": "Untitled0.ipynb",
      "provenance": [],
      "toc_visible": true,
      "authorship_tag": "ABX9TyPuYCo44Q48vXozmlv+Mbx7",
      "include_colab_link": true
    },
    "kernelspec": {
      "name": "python3",
      "display_name": "Python 3"
    },
    "language_info": {
      "name": "python"
    }
  },
  "cells": [
    {
      "cell_type": "markdown",
      "metadata": {
        "id": "view-in-github",
        "colab_type": "text"
      },
      "source": [
        "<a href=\"https://colab.research.google.com/github/ERROR15515/proj_1sem_DGavrish/blob/master/PZ_11/PZ_3-5.ipynb\" target=\"_parent\"><img src=\"https://colab.research.google.com/assets/colab-badge.svg\" alt=\"Open In Colab\"/></a>"
      ]
    },
    {
      "cell_type": "markdown",
      "source": [
        "# ПЗ_3"
      ],
      "metadata": {
        "id": "4wCNRYvuXEnv"
      }
    },
    {
      "cell_type": "markdown",
      "source": [
        "# №1\n",
        "# Даны два целых числа: A, B. Проверить истинность высказывания: «Каждое из чисел A и B нечетное»."
      ],
      "metadata": {
        "id": "kJqwJ7NuXGS4"
      }
    },
    {
      "cell_type": "code",
      "source": [
        "# Даны два целых числа: A, B.\n",
        "# Проверить истинность высказывания:\n",
        "# «Каждое из чисел A и B нечетное».\n",
        "\n",
        "a = input('Введите число a: ')  # Ввод данных\n",
        "b = input('Введите число b: ')\n",
        "\n",
        "while type(a) != int:   # Обработка исключений\n",
        "    try:\n",
        "        a = int(a)\n",
        "    except ValueError:\n",
        "        print('Введен неверный тип данных!')\n",
        "        a = input('Введите число а: ')\n",
        "\n",
        "while type(b) != int:\n",
        "    try:\n",
        "        b = int(b)\n",
        "    except ValueError:\n",
        "        print('Введен неверный тип данных!')\n",
        "        b = input('Введите число b: ')\n",
        "\n",
        "if a % 2 != 0 and b % 2 != 0:\n",
        "    print('Условие выполнено!')\n",
        "else:\n",
        "    print('Условие не выполнено!')"
      ],
      "metadata": {
        "id": "IUyMLK6GXGhw"
      },
      "execution_count": null,
      "outputs": []
    },
    {
      "cell_type": "markdown",
      "source": [
        "# №2\n",
        "# Единицы длины пронумерованы следующим образом: 1 — дециметр, 2 — километр, 3 — метр, 4 — миллиметр, 5 — сантиметр. Дан номер единицы длины (целое число в диапазоне 1-5). и длина отрезка в этих единицах (вещественное число). Найти длину отрезка в метрах."
      ],
      "metadata": {
        "id": "hElGgN8sXGoD"
      }
    },
    {
      "cell_type": "code",
      "source": [
        "# Единицы длины пронумерованы следующим образом:\n",
        "# 1 — дециметр, 2 — километр, 3 — метр, 4 — миллиметр, 5 — сантиметр.\n",
        "# Дан номер единицы длины (целое число в диапазоне 1-5)\n",
        "# и длина отрезка в этих единицах (вещественное число)\n",
        "# Найти длину отрезка в метрах.\n",
        "\n",
        "print('1 - дециметр')   # Пометки для выбора действия\n",
        "print('2 - километр')\n",
        "print('3 - метр')\n",
        "print('4 - миллиметр')\n",
        "print('5 - сантиметр')\n",
        "\n",
        "a = input('Выберите единицу измерения: ')   # Выбор единиц измерения\n",
        "while type(a) != int:   # Обработка исключений\n",
        "    try:\n",
        "        a = int(a)\n",
        "    except ValueError:\n",
        "        print('Введен неверный тип данных')\n",
        "        a = input('Выберите единицу измерения: ')\n",
        "\n",
        "    try:\n",
        "        while (1 > a) or (a > 5):    # Ограничение в диапозоне от 1 до 5\n",
        "            print(\"Введен неверный номер!\")\n",
        "            a = input(\"Выберите единицу измерения: \")\n",
        "    except TypeError:\n",
        "        continue\n",
        "\n",
        "b = input('Введите значение: ')  # Ввод данных\n",
        "\n",
        "while type(b) != float:  # Обработка исключений\n",
        "    try:\n",
        "        b = float(b)\n",
        "    except ValueError:\n",
        "        print('Введен неверный тип данных')\n",
        "        b = input('Введите значение в метрах: ')\n",
        "\n",
        "if a == 1:\n",
        "    print(b / 10, 'м')\n",
        "elif a == 2:\n",
        "    print(b * 1000, 'м')\n",
        "elif a == 3:\n",
        "    print(b * 1, 'м')\n",
        "elif a == 4:\n",
        "    print(b / 1000, 'м')\n",
        "elif a == 5:\n",
        "    print(b / 100, 'м')\n"
      ],
      "metadata": {
        "id": "FE7O-0VHXGuw"
      },
      "execution_count": null,
      "outputs": []
    },
    {
      "cell_type": "markdown",
      "source": [
        "# ПЗ_4"
      ],
      "metadata": {
        "id": "GRJPldXXXFPQ"
      }
    },
    {
      "cell_type": "markdown",
      "source": [
        "# №1\n",
        "# Даны два целых числа A и B (A < B). Найти сумму квадратов всех целых чисел. от A до B включительно."
      ],
      "metadata": {
        "id": "LG7ke42LXHRY"
      }
    },
    {
      "cell_type": "code",
      "source": [
        "# Даны два целых числа A и B (A < B).\n",
        "# Найти сумму квадратов всех целых чисел\n",
        "# от A до B включительно.\n",
        "\n",
        "b = input('Введите число B(должно быть больше A): ')  # Ввод переменных\n",
        "\n",
        "while type(b) != int:  # обработка исключений\n",
        "    try:\n",
        "        b = int(b)\n",
        "    except ValueError:\n",
        "        print('Введено неверное значение!')\n",
        "        b = input('Введите число B(должно быть больше A): ')\n",
        "\n",
        "a = input('Введите число A: ')\n",
        "\n",
        "while type(a) != int:\n",
        "    try:\n",
        "        a = int(a)\n",
        "    except ValueError:\n",
        "        print('Введено неверное значенеие!')\n",
        "        a = input('Введите число A: ')\n",
        "    if a > b:\n",
        "        print('Введено неверное значение!')\n",
        "        a = input('Введите число A: ')\n",
        "    else:\n",
        "        continue\n",
        "\n",
        "c = 0\n",
        "\n",
        "while a <= b:\n",
        "    print('Квадрат числа', a, ':', a ** 2)\n",
        "    c += a ** 2\n",
        "    a += 1\n",
        "\n",
        "print(c)"
      ],
      "metadata": {
        "id": "K16E197_XHWr"
      },
      "execution_count": null,
      "outputs": []
    },
    {
      "cell_type": "markdown",
      "source": [
        "# №2\n",
        "# Начальный вклад в банке равен 1000 руб. Через каждый месяц размер вклада увеличивается на P процентов от имеющейся суммы (P — вещественное число, 0< P <25). По данному P определить, через сколько месяцев размер вклада превысит 1100 руб, и вывести найденное количество месяцев K (целое число) и итоговый размер вклада S (вещественное число)."
      ],
      "metadata": {
        "id": "WnqX6D-AXHd4"
      }
    },
    {
      "cell_type": "code",
      "source": [
        "# Начальный вклад в банке равен 1000 руб.\n",
        "# Через каждый месяц размер вклада увеличивается\n",
        "# на P процентов от имеющейся суммы\n",
        "# (P — вещественное число, 0< P <25). По данному P\n",
        "# определить, через сколько месяцев размер вклада превысит 1100 руб,\n",
        "# и вывести найденное количество месяцев K (целое число)\n",
        "# и итоговый размер вклада S (вещественное число).\n",
        "\n",
        "\n",
        "s = 1000  # Ввод переменных\n",
        "k = 0\n",
        "\n",
        "p = input('Введите процент по вкладу(не более 25%): ')\n",
        "while type(p) != float:    # Обработка исключений\n",
        "    try:\n",
        "        p = float(p)\n",
        "    except ValueError:\n",
        "        print('Введено неверное значение!')\n",
        "        p = input('Введите процент по вкладу(не более 25%): ')\n",
        "    try:\n",
        "        while (0 > p) or (p > 25):  # Ограничение в диапозоне от 0 до 26\n",
        "            print('Введено неверное значение!')\n",
        "            p = input('Введите процент по вкладу(не более 25%): ')\n",
        "    except TypeError:\n",
        "        continue\n",
        "\n",
        "pers = 1000 / 100 * p\n",
        "\n",
        "while s < 1100:\n",
        "    s += pers\n",
        "    k += 1\n",
        "\n",
        "print('Размер вклада составляет: ', s)\n",
        "print('Количество месяцев: ', k)\n"
      ],
      "metadata": {
        "id": "YIkDpDMrXHi7"
      },
      "execution_count": null,
      "outputs": []
    },
    {
      "cell_type": "markdown",
      "source": [
        "# ПЗ_5\n"
      ],
      "metadata": {
        "id": "5_IHNBDDXFjn"
      }
    },
    {
      "cell_type": "markdown",
      "source": [
        "# №1\n",
        "# Составить программу, в которой функцию построит изображение, в котором в первой строке 1 звездочка, во второй - 2, в третьей -3, ..., в строке с номером m - m звездочек."
      ],
      "metadata": {
        "id": "LJ2s5dTmXH8Q"
      }
    },
    {
      "cell_type": "code",
      "source": [
        "# Составить программу, в которой функцию\n",
        "# построит изображение, в котором в первой\n",
        "# строке 1 звездочка, во второй - 2, в третьей -3, ...,\n",
        "# в строке с номером m - m звездочек.\n",
        "\n",
        "def tree(*a):   # Задание функции\n",
        "    a = int(input('Введите число: '))   # Ввод переменных\n",
        "    b = 0\n",
        "    while b <= a:\n",
        "        print('*' * b)\n",
        "        b += 1\n",
        "\n",
        "\n",
        "tree()"
      ],
      "metadata": {
        "id": "vj9vkMpgXIBY"
      },
      "execution_count": null,
      "outputs": []
    },
    {
      "cell_type": "markdown",
      "source": [
        "# №2\n",
        "# Описать функцию AddLeftDigit(D, K), добавляющую к целому положительному числу K слева цифру D (D — входной параметр целого типа, лежащий в диапазоне 1-9, K — параметр целого типа,являющийся одновременно входным и выходным). С помощью этой функции последовательно добавить к данному числу K слева данные цифры D1 и D2, выводя результат каждого добавления."
      ],
      "metadata": {
        "id": "i3fbpKa4XIG4"
      }
    },
    {
      "cell_type": "code",
      "source": [
        "# Описать функцию AddLeftDigit(D, K),\n",
        "# добавляющую к целому положительному числу K слева цифру D\n",
        "# (D — входной параметр целого типа, лежащий в диапазоне 1-9, K —\n",
        "# параметр целого типа,являющийся одновременно входным и выходным).\n",
        "# С помощью этой функции последовательно добавить\n",
        "# к данному числу K слева данные цифры D1 и D2,\n",
        "# выводя результат каждого добавления.\n",
        "\n",
        "def addleftdigit(d1, d2, k):     # Задание функциий\n",
        "    print(int(str(d2) + str(k)))\n",
        "    print(int(str(d1) + str(d2) + str(k)))\n",
        "    exit(0)\n",
        "\n",
        "\n",
        "def main():\n",
        "    try:\n",
        "        d1 = int(input('Введите целое D1(от 1 до 9): '))  # Ввод переменных\n",
        "        if not((d1 < 10) and (d1 > 0)):\n",
        "            print('Введено неверное значение!')\n",
        "            return\n",
        "\n",
        "        d2 = int(input('Введите целое D2(от 1 до 9): '))\n",
        "        if not ((d2 < 10) and (d2 > 0)):\n",
        "            print('Введено неверное значение!')\n",
        "            return\n",
        "\n",
        "        k = int(input('Введите целое число K: '))\n",
        "        print(addleftdigit(d1, d2, k))\n",
        "        exit(0)\n",
        "    except ValueError:\n",
        "        print('Введен неверный тип данных!')\n",
        "        return\n",
        "\n",
        "\n",
        "if __name__ == '__main__':\n",
        "    while True:\n",
        "        main()"
      ],
      "metadata": {
        "id": "8VHNqCxbXILb"
      },
      "execution_count": null,
      "outputs": []
    }
  ]
}